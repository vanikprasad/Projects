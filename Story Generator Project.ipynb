{
 "cells": [
  {
   "cell_type": "markdown",
   "id": "nonprofit-utility",
   "metadata": {},
   "source": [
    "## Importing random module"
   ]
  },
  {
   "cell_type": "code",
   "execution_count": 1,
   "id": "modified-bahamas",
   "metadata": {},
   "outputs": [],
   "source": [
    "import random"
   ]
  },
  {
   "cell_type": "markdown",
   "id": "statistical-isaac",
   "metadata": {},
   "source": [
    "## Define the phrases for the story"
   ]
  },
  {
   "cell_type": "code",
   "execution_count": 20,
   "id": "convinced-southwest",
   "metadata": {},
   "outputs": [],
   "source": [
    "Sentence_start=['Once upon a time there lived a ','Long ago there lived a ','About 20 years ago there was a ' ]\n",
    "character=['Lion ','Tiger ','Leopard ','Cheetah ' ]\n",
    "mid_sentence=['who used to think himself King and kill 2-3 animals daily for his meal. All animals went to him to tell, that daily one of them will come to him for his meal. ']\n",
    "second_character=['One day it was rabbbits turn. ','One day it was Tortoise turn. ','One day it was Hares turn. ']\n",
    "work=['He sees the fierce animal and tries to save himself.He went to the fierce animal and told him that, there is another animal who claims to be more powerful king than him. ']\n",
    "story_line=['The king is taken to the well and sees his own reflection.He jumps into the well to attack the other king. ']\n",
    "Moral=['Moral of story is Wisdom always wins']\n"
   ]
  },
  {
   "cell_type": "markdown",
   "id": "ordered-sculpture",
   "metadata": {},
   "source": [
    "## Selecting an item from each list and concatenating them."
   ]
  },
  {
   "cell_type": "code",
   "execution_count": 21,
   "id": "restricted-newark",
   "metadata": {},
   "outputs": [
    {
     "name": "stdout",
     "output_type": "stream",
     "text": [
      "Once upon a time there lived a Cheetah who used to think himself King and kill 2-3 animals daily for his meal. All animals went to him to tell, that daily one of them will come to him for his meal. One day it was Hares turn. He sees the fierce animal and tries to save himself.He went to the fierce animal and told him that, there is another animal who claims to be more powerful king than him. The king is taken to the well and sees his own reflection.He jumps into the well to attack the other king. Moral of story is Wisdom always wins\n"
     ]
    }
   ],
   "source": [
    "print(random.choice(Sentence_start)+random.choice(character)+\n",
    "      random.choice(mid_sentence)+random.choice(second_character) +\n",
    "      random.choice(work)+random.choice(story_line)+\n",
    "      random.choice(Moral))"
   ]
  },
  {
   "cell_type": "code",
   "execution_count": null,
   "id": "legal-palestine",
   "metadata": {},
   "outputs": [],
   "source": []
  }
 ],
 "metadata": {
  "kernelspec": {
   "display_name": "Python 3",
   "language": "python",
   "name": "python3"
  },
  "language_info": {
   "codemirror_mode": {
    "name": "ipython",
    "version": 3
   },
   "file_extension": ".py",
   "mimetype": "text/x-python",
   "name": "python",
   "nbconvert_exporter": "python",
   "pygments_lexer": "ipython3",
   "version": "3.7.3"
  }
 },
 "nbformat": 4,
 "nbformat_minor": 5
}
